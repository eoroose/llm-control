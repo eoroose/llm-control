{
 "cells": [
  {
   "cell_type": "code",
   "execution_count": 32,
   "id": "fbf8ed1e",
   "metadata": {},
   "outputs": [],
   "source": [
    "import os\n",
    "# os.environ[\"LANGCHAIN_TRACING_V2\"] = \"true\"\n",
    "# os.environ[\"LANGCHAIN_PROJECT\"] = \"LangGraph_01\"\n",
    "\n",
    "import sys\n",
    "sys.path.insert(1, '../src')\n",
    "# from helper_functions import ( generate_response, DEFAULT_MAX_TOKENS )\n",
    "\n",
    "from typing import List, Annotated, Literal\n",
    "from typing_extensions import TypedDict\n",
    "from IPython.display import Image, display\n",
    "import requests\n",
    "import json\n",
    "import pandas as pd\n",
    "\n",
    "from langchain_core.messages import AIMessage\n",
    "from langchain_core.tools import tool\n",
    "from langchain_core.prompts import ChatPromptTemplate\n",
    "from langchain_ollama import ChatOllama, OllamaEmbeddings\n",
    "from langchain_openai import ChatOpenAI, OpenAIEmbeddings\n",
    "from langchain_core.vectorstores import InMemoryVectorStore\n",
    "\n",
    "from langgraph.graph import START, StateGraph\n",
    "\n",
    "\n",
    "\n",
    "import time\n",
    "from typing import Dict, List, Tuple, Any, Optional, Union, Callable, TypeVar\n",
    "\n",
    "# For logging and visualization\n",
    "import logging\n",
    "from IPython.display import display, Markdown, HTML\n",
    "from langchain_openai import ChatOpenAI, OpenAIEmbeddings\n",
    "from langchain.schema import SystemMessage, HumanMessage"
   ]
  },
  {
   "cell_type": "code",
   "execution_count": 33,
   "id": "6aeeed78",
   "metadata": {},
   "outputs": [
    {
     "data": {
      "image/png": "[encoded data removed]",
      "text/plain": [
       "<IPython.core.display.Image object>"
      ]
     },
     "metadata": {},
     "output_type": "display_data"
    }
   ],
   "source": [
    "class State(TypedDict):\n",
    "    question: str\n",
    "    decision: str\n",
    "    response: str\n",
    "\n",
    "class DecisionOutput(TypedDict):\n",
    "    \"\"\"Generate a decision based on the request\"\"\"\n",
    "    decision: Annotated[\n",
    "        Literal[\"give_handshake\", \"answer_question\"],\n",
    "        \"the decision/action that must be taken based on the request\"\n",
    "    ]\n",
    "\n",
    "system_message = f\"\"\"\n",
    "    you are a humanoid robot named \"Tyson\" from Tyson Robotics.\n",
    "    you must decide how to respond to the user based on their request.\n",
    "\"\"\"\n",
    "\n",
    "user_prompt = \"command: {input}\"\n",
    "\n",
    "query_prompt_template = ChatPromptTemplate([\n",
    "    (\"system\", system_message), \n",
    "    (\"user\", user_prompt)\n",
    "])\n",
    "\n",
    "llm = ChatOpenAI(model=\"o3-mini\")\n",
    "\n",
    "def decide(state: State) -> DecisionOutput:\n",
    "    \"\"\"make a decision based on the request\"\"\"\n",
    "    prompt = query_prompt_template.invoke(\n",
    "        {\n",
    "            \"input\": state[\"question\"],\n",
    "        }\n",
    "    )\n",
    "    structured_llm = llm.with_structured_output(DecisionOutput)\n",
    "    result = structured_llm.invoke(prompt)\n",
    "    return {\"decision\": result[\"decision\"]}\n",
    "\n",
    "\n",
    "def decision_tree(state: State):\n",
    "    if state[\"decision\"] == \"give_handshake\":\n",
    "        response = \"handshake given\"\n",
    "    elif state[\"decision\"] == \"answer_question\":\n",
    "        prompt = query_prompt_template.invoke(\n",
    "            {\n",
    "                \"input\": state[\"question\"],\n",
    "            }\n",
    "        )\n",
    "        response = llm.invoke(prompt)\n",
    "    return {\"response\": response}\n",
    "\n",
    "\n",
    "\n",
    "graph_builder = StateGraph(State).add_sequence(\n",
    "    [decide, decision_tree]\n",
    ")\n",
    "graph_builder.add_edge(START, \"decide\")\n",
    "graph = graph_builder.compile()\n",
    "\n",
    "display(Image(graph.get_graph(xray=True).draw_mermaid_png()))\n"
   ]
  },
  {
   "cell_type": "code",
   "execution_count": 34,
   "id": "2672642f",
   "metadata": {},
   "outputs": [
    {
     "name": "stdout",
     "output_type": "stream",
     "text": [
      "{'decide': {'decision': 'answer_question'}}\n",
      "{'decision_tree': {'response': AIMessage(content='Hello! I am Tyson, a humanoid robot from Tyson Robotics. How can I assist you today?', additional_kwargs={'refusal': None}, response_metadata={'token_usage': {'completion_tokens': 290, 'prompt_tokens': 55, 'total_tokens': 345, 'completion_tokens_details': {'accepted_prediction_tokens': 0, 'audio_tokens': 0, 'reasoning_tokens': 256, 'rejected_prediction_tokens': 0}, 'prompt_tokens_details': {'audio_tokens': 0, 'cached_tokens': 0}}, 'model_name': 'o3-mini-2025-01-31', 'system_fingerprint': 'fp_6c43dcef8c', 'id': 'chatcmpl-CFLJaWBEFpPwDaeuVaYzvpvA1PYud', 'service_tier': 'default', 'finish_reason': 'stop', 'logprobs': None}, id='run--48e703f9-a5bb-4624-a1cb-1264b801bbe0-0', usage_metadata={'input_tokens': 55, 'output_tokens': 290, 'total_tokens': 345, 'input_token_details': {'audio': 0, 'cache_read': 0}, 'output_token_details': {'audio': 0, 'reasoning': 256}})}}\n"
     ]
    }
   ],
   "source": [
    "async for chunk in graph.astream( {\"question\": \"what is you name and who do you work for?\"} ):\n",
    "    print(chunk)"
   ]
  },
  {
   "cell_type": "code",
   "execution_count": null,
   "id": "ff07e04b",
   "metadata": {},
   "outputs": [],
   "source": []
  },
  {
   "cell_type": "code",
   "execution_count": null,
   "id": "16cf8ec9",
   "metadata": {},
   "outputs": [],
   "source": []
  },
  {
   "cell_type": "code",
   "execution_count": null,
   "id": "60bf8666",
   "metadata": {},
   "outputs": [],
   "source": []
  }
 ],
 "metadata": {
  "kernelspec": {
   "display_name": "Python 3",
   "language": "python",
   "name": "python3"
  },
  "language_info": {
   "codemirror_mode": {
    "name": "ipython",
    "version": 3
   },
   "file_extension": ".py",
   "mimetype": "text/x-python",
   "name": "python",
   "nbconvert_exporter": "python",
   "pygments_lexer": "ipython3",
   "version": "3.13.7"
  }
 },
 "nbformat": 4,
 "nbformat_minor": 5
}
