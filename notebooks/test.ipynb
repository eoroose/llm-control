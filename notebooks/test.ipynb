{
 "cells": [
  {
   "cell_type": "code",
   "execution_count": 1,
   "id": "fb855712",
   "metadata": {},
   "outputs": [],
   "source": [
    "import sys\n",
    "sys.path.append('../src')\n",
    "from langchain_openai import ChatOpenAI\n",
    "from llm import DecisionNode, ResponseNode\n",
    "from speech_to_text import WakeWordDetector, SpeechSynthesizer"
   ]
  },
  {
   "cell_type": "code",
   "execution_count": 2,
   "id": "a97b1416",
   "metadata": {},
   "outputs": [
    {
     "name": "stdout",
     "output_type": "stream",
     "text": [
      "Listening. Say 'Hey Tyson'…\n",
      "Heard: hey Tyson what's the capital of France\n",
      "Heard: hey Tyson what's the capital of France\n",
      "Detected wake word in: hey Tyson what's the capital of France\n",
      "Detected wake word in: hey Tyson what's the capital of France\n",
      "Decision: answer_question\n",
      "Decision: answer_question\n",
      "Response: content='The capital of France is Paris.' additional_kwargs={'refusal': None} response_metadata={'token_usage': {'completion_tokens': 212, 'prompt_tokens': 26, 'total_tokens': 238, 'completion_tokens_details': {'accepted_prediction_tokens': 0, 'audio_tokens': 0, 'reasoning_tokens': 192, 'rejected_prediction_tokens': 0}, 'prompt_tokens_details': {'audio_tokens': 0, 'cached_tokens': 0}}, 'model_name': 'o3-mini-2025-01-31', 'system_fingerprint': 'fp_6c43dcef8c', 'id': 'chatcmpl-CIwpnCgE5wDRNFto1m3PNlr2d2aic', 'service_tier': 'default', 'finish_reason': 'stop', 'logprobs': None} id='run--38068fd6-92d5-4296-b7be-751396cad122-0' usage_metadata={'input_tokens': 26, 'output_tokens': 212, 'total_tokens': 238, 'input_token_details': {'audio': 0, 'cache_read': 0}, 'output_token_details': {'audio': 0, 'reasoning': 192}}\n",
      "Response: content='The capital of France is Paris.' additional_kwargs={'refusal': None} response_metadata={'token_usage': {'completion_tokens': 212, 'prompt_tokens': 26, 'total_tokens': 238, 'completion_tokens_details': {'accepted_prediction_tokens': 0, 'audio_tokens': 0, 'reasoning_tokens': 192, 'rejected_prediction_tokens': 0}, 'prompt_tokens_details': {'audio_tokens': 0, 'cached_tokens': 0}}, 'model_name': 'o3-mini-2025-01-31', 'system_fingerprint': 'fp_6c43dcef8c', 'id': 'chatcmpl-CIwpnCgE5wDRNFto1m3PNlr2d2aic', 'service_tier': 'default', 'finish_reason': 'stop', 'logprobs': None} id='run--38068fd6-92d5-4296-b7be-751396cad122-0' usage_metadata={'input_tokens': 26, 'output_tokens': 212, 'total_tokens': 238, 'input_token_details': {'audio': 0, 'cache_read': 0}, 'output_token_details': {'audio': 0, 'reasoning': 192}}\n",
      "The capital of France is Paris.\n",
      "The capital of France is Paris.\n"
     ]
    }
   ],
   "source": [
    "llm = ChatOpenAI(model=\"o3-mini\")\n",
    "\n",
    "decision_system_message = f\"\"\"\n",
    "        you are a humanoid robot named \"Tyson\" from Tyson Robotics.\n",
    "        you must decide how to respond to the user based on their request.\n",
    "    \"\"\"\n",
    "possible_decisions = [\"give_handshake\", \"answer_question\"]\n",
    "\n",
    "response_system_message = f\"\"\"\n",
    "        answer the user's question accordingly.\n",
    "    \"\"\"\n",
    "\n",
    "detector = WakeWordDetector(r\"\\bhey\\s+tyson\\b\")\n",
    "text = detector.start_listening()\n",
    "print(f\"Detected wake word in: {text}\")\n",
    "\n",
    "decision = DecisionNode.invoke(llm, decision_system_message, possible_decisions, text)\n",
    "print(f\"Decision: {decision}\")\n",
    "\n",
    "if decision == \"answer_question\":\n",
    "    response = ResponseNode.invoke(llm, response_system_message, text)\n",
    "    print(f\"Response: {response}\")\n",
    "    SpeechSynthesizer.say(response.content)\n",
    "else:\n",
    "    pass\n"
   ]
  },
  {
   "cell_type": "code",
   "execution_count": null,
   "id": "a5e80280",
   "metadata": {},
   "outputs": [],
   "source": []
  }
 ],
 "metadata": {
  "kernelspec": {
   "display_name": "venv",
   "language": "python",
   "name": "python3"
  },
  "language_info": {
   "codemirror_mode": {
    "name": "ipython",
    "version": 3
   },
   "file_extension": ".py",
   "mimetype": "text/x-python",
   "name": "python",
   "nbconvert_exporter": "python",
   "pygments_lexer": "ipython3",
   "version": "3.12.9"
  }
 },
 "nbformat": 4,
 "nbformat_minor": 5
}
